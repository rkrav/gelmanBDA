{
 "cells": [
  {
   "cell_type": "code",
   "execution_count": 55,
   "metadata": {
    "collapsed": true
   },
   "outputs": [],
   "source": [
    "%matplotlib inline"
   ]
  },
  {
   "cell_type": "code",
   "execution_count": 49,
   "metadata": {
    "collapsed": true
   },
   "outputs": [],
   "source": [
    "from scipy.optimize import brentq\n",
    "from scipy.stats import norm"
   ]
  },
  {
   "cell_type": "markdown",
   "metadata": {},
   "source": [
    "Problem 4.1"
   ]
  },
  {
   "cell_type": "code",
   "execution_count": 33,
   "metadata": {
    "collapsed": false
   },
   "outputs": [],
   "source": [
    "data = np.array([-2.,-1.,0.,1.5,2.5])\n",
    "def add_fun(f, g):\n",
    "    return lambda x: f(x) + g(x)\n",
    "\n",
    "def pderlog(data_arr = data):\n",
    "    \n",
    "    def derlog(datum):\n",
    "        return lambda x: 1./(1 + (datum - x)**2) * 2. * (datum - x)\n",
    "    \n",
    "    data_mped = [derlog(datum) for datum in data_arr]\n",
    "    return reduce(add_fun, data_mped)"
   ]
  },
  {
   "cell_type": "code",
   "execution_count": 61,
   "metadata": {
    "collapsed": false
   },
   "outputs": [
    {
     "name": "stdout",
     "output_type": "stream",
     "text": [
      "The Posterior Mode is: -0.137649277989\n"
     ]
    }
   ],
   "source": [
    "#a\n",
    "post_mode = brentq(pderlog(), -2.,2.)\n",
    "print 'The Posterior Mode is: {0}'.format(post_mode)"
   ]
  },
  {
   "cell_type": "code",
   "execution_count": 46,
   "metadata": {
    "collapsed": true
   },
   "outputs": [],
   "source": [
    "#b\n",
    "def pder2log(x = post_mode, data_arr = data):\n",
    "    \n",
    "    def der2log(x, dataum):\n",
    "        return (-1.)*(2./(1 + (datum - x)**2) + 4.*(datum - x)**2/(1 + (datum - x)**2)**2)\n",
    "    \n",
    "    data_mped = np.array([der2log(x, datum) for datum in data_arr])\n",
    "    \n",
    "    return data_mped.sum()\n",
    "                      "
   ]
  },
  {
   "cell_type": "code",
   "execution_count": 63,
   "metadata": {
    "collapsed": false
   },
   "outputs": [
    {
     "name": "stdout",
     "output_type": "stream",
     "text": [
      "The Second Derivative at the Posterior Mode is: -7.32904180111\n"
     ]
    }
   ],
   "source": [
    "two_der_mode = pder2log()\n",
    "print 'The Second Derivative at the Posterior Mode is: {0}'.format(two_der_mode)"
   ]
  },
  {
   "cell_type": "code",
   "execution_count": 104,
   "metadata": {
    "collapsed": false
   },
   "outputs": [
    {
     "data": {
      "text/plain": [
       "[<matplotlib.lines.Line2D at 0x7f0e8f297ad0>]"
      ]
     },
     "execution_count": 104,
     "metadata": {},
     "output_type": "execute_result"
    },
    {
     "data": {
      "image/png": "[encoded data removed]",
      "text/plain": [
       "<matplotlib.figure.Figure at 0x7f0e8f372110>"
      ]
     },
     "metadata": {},
     "output_type": "display_data"
    }
   ],
   "source": [
    "#c\n",
    "gridnum = 250\n",
    "post_napprox = norm(loc = post_mode, scale = -1. / two_der_mode)\n",
    "x = np.linspace(0, 1, gridnum)\n",
    "post_density = post_napprox.pdf(x)\n",
    "post_density = post_density * gridnum / post_density.sum() \n",
    "plt.plot(x, post_density)"
   ]
  }
 ],
 "metadata": {
  "kernelspec": {
   "display_name": "Python 2",
   "language": "python",
   "name": "python2"
  },
  "language_info": {
   "codemirror_mode": {
    "name": "ipython",
    "version": 2
   },
   "file_extension": ".py",
   "mimetype": "text/x-python",
   "name": "python",
   "nbconvert_exporter": "python",
   "pygments_lexer": "ipython2",
   "version": "2.7.9"
  }
 },
 "nbformat": 4,
 "nbformat_minor": 0
}
